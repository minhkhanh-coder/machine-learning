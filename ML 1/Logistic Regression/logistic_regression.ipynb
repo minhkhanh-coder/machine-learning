{
 "cells": [
  {
   "cell_type": "markdown",
   "metadata": {},
   "source": [
    "PHẦN 1: CHUẨN BỊ DỮ LIỆU"
   ]
  },
  {
   "cell_type": "code",
   "execution_count": 43,
   "metadata": {},
   "outputs": [],
   "source": [
    "import warnings\n",
    "import numpy as np\n",
    "import pandas as pd\n",
    "from scipy import stats\n",
    "from sklearn import preprocessing\n",
    "from sklearn.metrics import accuracy_score\n",
    "from sklearn.preprocessing import LabelEncoder\n",
    "from sklearn.linear_model import LogisticRegression\n",
    "from sklearn.model_selection import train_test_split\n",
    "import matplotlib.pyplot as plt"
   ]
  },
  {
   "cell_type": "code",
   "execution_count": 44,
   "metadata": {},
   "outputs": [],
   "source": [
    "# Tắt tất cả các cảnh báo\n",
    "warnings.filterwarnings(\"ignore\")"
   ]
  },
  {
   "cell_type": "code",
   "execution_count": 45,
   "metadata": {},
   "outputs": [
    {
     "name": "stdout",
     "output_type": "stream",
     "text": [
      "Kích thước dataframe dữ liệu thời tiết: (145460, 23)\n",
      "         Date Location  MinTemp  MaxTemp  Rainfall  Evaporation  Sunshine  \\\n",
      "0  2008-12-01   Albury     13.4     22.9       0.6          NaN       NaN   \n",
      "1  2008-12-02   Albury      7.4     25.1       0.0          NaN       NaN   \n",
      "2  2008-12-03   Albury     12.9     25.7       0.0          NaN       NaN   \n",
      "3  2008-12-04   Albury      9.2     28.0       0.0          NaN       NaN   \n",
      "4  2008-12-05   Albury     17.5     32.3       1.0          NaN       NaN   \n",
      "\n",
      "  WindGustDir  WindGustSpeed WindDir9am  ... Humidity9am  Humidity3pm  \\\n",
      "0           W           44.0          W  ...        71.0         22.0   \n",
      "1         WNW           44.0        NNW  ...        44.0         25.0   \n",
      "2         WSW           46.0          W  ...        38.0         30.0   \n",
      "3          NE           24.0         SE  ...        45.0         16.0   \n",
      "4           W           41.0        ENE  ...        82.0         33.0   \n",
      "\n",
      "   Pressure9am  Pressure3pm  Cloud9am  Cloud3pm  Temp9am  Temp3pm  RainToday  \\\n",
      "0       1007.7       1007.1       8.0       NaN     16.9     21.8         No   \n",
      "1       1010.6       1007.8       NaN       NaN     17.2     24.3         No   \n",
      "2       1007.6       1008.7       NaN       2.0     21.0     23.2         No   \n",
      "3       1017.6       1012.8       NaN       NaN     18.1     26.5         No   \n",
      "4       1010.8       1006.0       7.0       8.0     17.8     29.7         No   \n",
      "\n",
      "   RainTomorrow  \n",
      "0            No  \n",
      "1            No  \n",
      "2            No  \n",
      "3            No  \n",
      "4            No  \n",
      "\n",
      "[5 rows x 23 columns]\n"
     ]
    }
   ],
   "source": [
    "# Đọc tập dữ liệu từ file csv\n",
    "df = pd.read_csv(\"./weatherAus.csv\")\n",
    "print(\"Kích thước dataframe dữ liệu thời tiết:\", df.shape)\n",
    "\n",
    "# Hiển thị tập dữ liệu\n",
    "print(df.head())"
   ]
  },
  {
   "cell_type": "code",
   "execution_count": 46,
   "metadata": {},
   "outputs": [
    {
     "name": "stdout",
     "output_type": "stream",
     "text": [
      "Index(['Date', 'Location', 'MinTemp', 'MaxTemp', 'Rainfall', 'Evaporation',\n",
      "       'Sunshine', 'WindGustDir', 'WindGustSpeed', 'WindDir9am', 'WindDir3pm',\n",
      "       'WindSpeed9am', 'WindSpeed3pm', 'Humidity9am', 'Humidity3pm',\n",
      "       'Pressure9am', 'Pressure3pm', 'Cloud9am', 'Cloud3pm', 'Temp9am',\n",
      "       'Temp3pm', 'RainToday', 'RainTomorrow'],\n",
      "      dtype='object')\n"
     ]
    }
   ],
   "source": [
    "# Tên các cột\n",
    "col_names = df.columns\n",
    "print(col_names)"
   ]
  },
  {
   "cell_type": "code",
   "execution_count": 47,
   "metadata": {},
   "outputs": [
    {
     "name": "stdout",
     "output_type": "stream",
     "text": [
      "             MinTemp        MaxTemp       Rainfall   Evaporation  \\\n",
      "count  143975.000000  144199.000000  142199.000000  82670.000000   \n",
      "mean       12.194034      23.221348       2.360918      5.468232   \n",
      "std         6.398495       7.119049       8.478060      4.193704   \n",
      "min        -8.500000      -4.800000       0.000000      0.000000   \n",
      "25%         7.600000      17.900000       0.000000      2.600000   \n",
      "50%        12.000000      22.600000       0.000000      4.800000   \n",
      "75%        16.900000      28.200000       0.800000      7.400000   \n",
      "max        33.900000      48.100000     371.000000    145.000000   \n",
      "\n",
      "           Sunshine  WindGustSpeed   WindSpeed9am   WindSpeed3pm  \\\n",
      "count  75625.000000  135197.000000  143693.000000  142398.000000   \n",
      "mean       7.611178      40.035230      14.043426      18.662657   \n",
      "std        3.785483      13.607062       8.915375       8.809800   \n",
      "min        0.000000       6.000000       0.000000       0.000000   \n",
      "25%        4.800000      31.000000       7.000000      13.000000   \n",
      "50%        8.400000      39.000000      13.000000      19.000000   \n",
      "75%       10.600000      48.000000      19.000000      24.000000   \n",
      "max       14.500000     135.000000     130.000000      87.000000   \n",
      "\n",
      "         Humidity9am    Humidity3pm   Pressure9am    Pressure3pm  \\\n",
      "count  142806.000000  140953.000000  130395.00000  130432.000000   \n",
      "mean       68.880831      51.539116    1017.64994    1015.255889   \n",
      "std        19.029164      20.795902       7.10653       7.037414   \n",
      "min         0.000000       0.000000     980.50000     977.100000   \n",
      "25%        57.000000      37.000000    1012.90000    1010.400000   \n",
      "50%        70.000000      52.000000    1017.60000    1015.200000   \n",
      "75%        83.000000      66.000000    1022.40000    1020.000000   \n",
      "max       100.000000     100.000000    1041.00000    1039.600000   \n",
      "\n",
      "           Cloud9am      Cloud3pm        Temp9am       Temp3pm  \n",
      "count  89572.000000  86102.000000  143693.000000  141851.00000  \n",
      "mean       4.447461      4.509930      16.990631      21.68339  \n",
      "std        2.887159      2.720357       6.488753       6.93665  \n",
      "min        0.000000      0.000000      -7.200000      -5.40000  \n",
      "25%        1.000000      2.000000      12.300000      16.60000  \n",
      "50%        5.000000      5.000000      16.700000      21.10000  \n",
      "75%        7.000000      7.000000      21.600000      26.40000  \n",
      "max        9.000000      9.000000      40.200000      46.70000  \n"
     ]
    }
   ],
   "source": [
    "# Thống kê cơ bản của mỗi cột\n",
    "print(df.describe())"
   ]
  },
  {
   "cell_type": "markdown",
   "metadata": {},
   "source": [
    "PHẦN 2: XỬ LÝ DỮ LIỆU"
   ]
  },
  {
   "cell_type": "markdown",
   "metadata": {},
   "source": [
    "2.1 Loại bỏ dữ liệu"
   ]
  },
  {
   "cell_type": "code",
   "execution_count": 48,
   "metadata": {},
   "outputs": [
    {
     "name": "stdout",
     "output_type": "stream",
     "text": [
      "Sunshine          75625\n",
      "Evaporation       82670\n",
      "Cloud3pm          86102\n",
      "Cloud9am          89572\n",
      "Pressure9am      130395\n",
      "Pressure3pm      130432\n",
      "WindDir9am       134894\n",
      "WindGustDir      135134\n",
      "WindGustSpeed    135197\n",
      "Humidity3pm      140953\n",
      "WindDir3pm       141232\n",
      "Temp3pm          141851\n",
      "RainTomorrow     142193\n",
      "RainToday        142199\n",
      "Rainfall         142199\n",
      "WindSpeed3pm     142398\n",
      "Humidity9am      142806\n",
      "Temp9am          143693\n",
      "WindSpeed9am     143693\n",
      "MinTemp          143975\n",
      "MaxTemp          144199\n",
      "Location         145460\n",
      "Date             145460\n",
      "dtype: int64\n"
     ]
    }
   ],
   "source": [
    "# Kiểm tra giá trị Null\n",
    "print(df.count().sort_values())"
   ]
  },
  {
   "cell_type": "code",
   "execution_count": 49,
   "metadata": {},
   "outputs": [
    {
     "name": "stdout",
     "output_type": "stream",
     "text": [
      "(145460, 18)\n"
     ]
    }
   ],
   "source": [
    "# Loại bỏ các cột không cần thiết\n",
    "df = df.drop(columns=['Sunshine','Evaporation','Cloud3pm','Cloud9am','Date'],axis=1)\n",
    "print(df.shape)"
   ]
  },
  {
   "cell_type": "code",
   "execution_count": 50,
   "metadata": {},
   "outputs": [
    {
     "name": "stdout",
     "output_type": "stream",
     "text": [
      "(112925, 18)\n"
     ]
    }
   ],
   "source": [
    "# Loại bỏ các hàng chứa giá trị Null\n",
    "df = df.dropna()\n",
    "print(df.shape)"
   ]
  },
  {
   "cell_type": "markdown",
   "metadata": {},
   "source": [
    "2.2 Loại bỏ giá trị ngoại lệ"
   ]
  },
  {
   "cell_type": "code",
   "execution_count": 52,
   "metadata": {},
   "outputs": [
    {
     "name": "stdout",
     "output_type": "stream",
     "text": [
      "         MinTemp   MaxTemp  Rainfall  WindGustSpeed  WindSpeed9am  \\\n",
      "0       0.133606  0.108909  0.226104       0.353152      0.692529   \n",
      "1       0.826105  0.209120  0.379755       0.353152      1.395172   \n",
      "2       0.053630  0.295856  0.379755       0.520274      0.562048   \n",
      "3       0.538192  0.628341  0.379755       1.318072      0.481803   \n",
      "4       0.789409  1.249943  0.123670       0.102468      1.003728   \n",
      "...          ...       ...       ...            ...           ...   \n",
      "145454  1.449917  0.267923  0.379755       0.733144      0.040123   \n",
      "145455  1.561884  0.036629  0.379755       0.733144      0.220840   \n",
      "145456  1.433922  0.238032  0.379755       1.485194      0.220840   \n",
      "145457  1.146009  0.469326  0.379755       0.231776      0.742765   \n",
      "145458  0.762124  0.483782  0.379755       0.983827      0.220840   \n",
      "\n",
      "        WindSpeed3pm  Humidity9am  Humidity3pm  Pressure9am  Pressure3pm  \\\n",
      "0           0.615619     0.195478     1.389100     1.493284     1.232228   \n",
      "1           0.366169     1.263051     1.242074     1.062586     1.127614   \n",
      "2           0.865070     1.587168     0.997030     1.508136     0.993110   \n",
      "3           1.255260     1.209031     1.683153     0.022970     0.380371   \n",
      "4           0.116718     0.789694     0.850004     1.032883     1.396622   \n",
      "...              ...          ...          ...          ...          ...   \n",
      "145454      0.756359     0.452757     1.144057     1.031498     0.874999   \n",
      "145455      1.005810     0.884914     1.291083     1.016646     0.740495   \n",
      "145456      1.255260     0.614816     1.438109     0.853278     0.561157   \n",
      "145457      1.255260     0.776874     1.291083     0.481987     0.217424   \n",
      "145458      1.504711     0.884914     1.291083     0.244360     0.172590   \n",
      "\n",
      "         Temp9am   Temp3pm  \n",
      "0       0.078998  0.050806  \n",
      "1       0.031559  0.318654  \n",
      "2       0.569330  0.156092  \n",
      "3       0.110757  0.643778  \n",
      "4       0.063318  1.116686  \n",
      "...          ...       ...  \n",
      "145454  1.264962  0.183811  \n",
      "145455  1.154272  0.037865  \n",
      "145456  1.027769  0.348211  \n",
      "145457  0.774763  0.584665  \n",
      "145458  0.363629  0.569886  \n",
      "\n",
      "[107868 rows x 12 columns]\n",
      "(103113, 18)\n"
     ]
    }
   ],
   "source": [
    "# Loại bỏ các giá trị ngoại lệ\n",
    "z = np.abs(stats.zscore(df._get_numeric_data()))\n",
    "print(z)\n",
    "df = df[(z < 3).all(axis=1)]\n",
    "print(df.shape)"
   ]
  },
  {
   "cell_type": "markdown",
   "metadata": {},
   "source": [
    "2.3 Chuẩn hóa dữ liệu"
   ]
  },
  {
   "cell_type": "code",
   "execution_count": 53,
   "metadata": {},
   "outputs": [
    {
     "name": "stdout",
     "output_type": "stream",
     "text": [
      "  Location   MinTemp   MaxTemp  Rainfall WindGustDir  WindGustSpeed  \\\n",
      "0   Albury  0.145603 -0.120266 -0.136427           W       0.412970   \n",
      "1   Albury -0.812264  0.198699 -0.406190         WNW       0.412970   \n",
      "2   Albury  0.065781  0.285690 -0.406190         WSW       0.587351   \n",
      "3   Albury -0.524904  0.619154 -0.406190          NE      -1.330844   \n",
      "4   Albury  0.800146  1.242587  0.043415           W       0.151398   \n",
      "\n",
      "  WindDir9am WindDir3pm  WindSpeed9am  WindSpeed3pm  Humidity9am  Humidity3pm  \\\n",
      "0          W        WNW      0.731022      0.651862     0.220448    -1.375995   \n",
      "1        NNW        WSW     -1.400118      0.397380    -1.251106    -1.227261   \n",
      "2          W        WSW      0.597826      0.906343    -1.578118    -0.979372   \n",
      "3         SE          E     -0.467744     -1.256749    -1.196604    -1.673462   \n",
      "4        ENE         NW     -1.000529      0.142899     0.819970    -0.830638   \n",
      "\n",
      "   Pressure9am  Pressure3pm   Temp9am   Temp3pm RainToday RainTomorrow  \n",
      "0    -1.552929    -1.275167 -0.078542 -0.063572        No           No  \n",
      "1    -1.114503    -1.169077 -0.031111  0.307266        No           No  \n",
      "2    -1.568048    -1.032677  0.569679  0.144098        No           No  \n",
      "3    -0.056231    -0.411298  0.111181  0.633604        No           No  \n",
      "4    -1.084266    -1.441878  0.063750  1.108277        No           No  \n"
     ]
    }
   ],
   "source": [
    "# Chuẩn hóa dữ liệu\n",
    "numerical = [var for var in df.columns if df[var].dtype==\"float64\"]\n",
    "for col in numerical:\n",
    "    df[col] = preprocessing.scale(df[col])\n",
    "    \n",
    "print(df.head())"
   ]
  },
  {
   "cell_type": "code",
   "execution_count": 54,
   "metadata": {},
   "outputs": [
    {
     "name": "stdout",
     "output_type": "stream",
     "text": [
      "  Location   MinTemp   MaxTemp  Rainfall WindGustDir  WindGustSpeed  \\\n",
      "0   Albury  0.145603 -0.120266 -0.136427           W       0.412970   \n",
      "1   Albury -0.812264  0.198699 -0.406190         WNW       0.412970   \n",
      "2   Albury  0.065781  0.285690 -0.406190         WSW       0.587351   \n",
      "3   Albury -0.524904  0.619154 -0.406190          NE      -1.330844   \n",
      "4   Albury  0.800146  1.242587  0.043415           W       0.151398   \n",
      "\n",
      "  WindDir9am WindDir3pm  WindSpeed9am  WindSpeed3pm  Humidity9am  Humidity3pm  \\\n",
      "0          W        WNW      0.731022      0.651862     0.220448    -1.375995   \n",
      "1        NNW        WSW     -1.400118      0.397380    -1.251106    -1.227261   \n",
      "2          W        WSW      0.597826      0.906343    -1.578118    -0.979372   \n",
      "3         SE          E     -0.467744     -1.256749    -1.196604    -1.673462   \n",
      "4        ENE         NW     -1.000529      0.142899     0.819970    -0.830638   \n",
      "\n",
      "   Pressure9am  Pressure3pm   Temp9am   Temp3pm  RainToday  RainTomorrow  \n",
      "0    -1.552929    -1.275167 -0.078542 -0.063572          0             0  \n",
      "1    -1.114503    -1.169077 -0.031111  0.307266          0             0  \n",
      "2    -1.568048    -1.032677  0.569679  0.144098          0             0  \n",
      "3    -0.056231    -0.411298  0.111181  0.633604          0             0  \n",
      "4    -1.084266    -1.441878  0.063750  1.108277          0             0  \n"
     ]
    }
   ],
   "source": [
    "# Chuyển Yes/No -> 1/0\n",
    "df[\"RainToday\"] = LabelEncoder().fit_transform(df[\"RainToday\"])\n",
    "df[\"RainTomorrow\"] = LabelEncoder().fit_transform(df[\"RainTomorrow\"])\n",
    "\n",
    "print(df.head())"
   ]
  },
  {
   "cell_type": "markdown",
   "metadata": {},
   "source": [
    "2.4 Xử lý dữ liệu phân loại"
   ]
  },
  {
   "cell_type": "code",
   "execution_count": 55,
   "metadata": {},
   "outputs": [
    {
     "name": "stdout",
     "output_type": "stream",
     "text": [
      "Number of categorical variables:  4\n",
      "['Location', 'WindGustDir', 'WindDir9am', 'WindDir3pm']\n"
     ]
    }
   ],
   "source": [
    "# Xử lý dữ liệu phân loại\n",
    "categorical = [var for var in df.columns if df[var].dtype=='object']\n",
    "print(\"Number of categorical variables: \", len(categorical))\n",
    "print(categorical)"
   ]
  },
  {
   "cell_type": "code",
   "execution_count": 56,
   "metadata": {},
   "outputs": [
    {
     "name": "stdout",
     "output_type": "stream",
     "text": [
      "['Adelaide' 'Albury' 'AliceSprings' 'BadgerysCreek' 'Ballarat' 'Bendigo'\n",
      " 'Brisbane' 'Cairns' 'Canberra' 'Cobar' 'CoffsHarbour' 'Dartmoor' 'Darwin'\n",
      " 'GoldCoast' 'Hobart' 'Katherine' 'Launceston' 'Melbourne'\n",
      " 'MelbourneAirport' 'Mildura' 'Moree' 'MountGambier' 'Nhil' 'NorahHead'\n",
      " 'NorfolkIsland' 'Nuriootpa' 'PearceRAAF' 'Perth' 'PerthAirport'\n",
      " 'Portland' 'Richmond' 'Sale' 'Sydney' 'SydneyAirport' 'Townsville'\n",
      " 'Tuggeranong' 'Uluru' 'WaggaWagga' 'Walpole' 'Watsonia' 'Williamtown'\n",
      " 'Witchcliffe' 'Wollongong' 'Woomera']\n",
      "['E' 'ENE' 'ESE' 'N' 'NE' 'NNE' 'NNW' 'NW' 'S' 'SE' 'SSE' 'SSW' 'SW' 'W'\n",
      " 'WNW' 'WSW']\n",
      "['E' 'ENE' 'ESE' 'N' 'NE' 'NNE' 'NNW' 'NW' 'S' 'SE' 'SSE' 'SSW' 'SW' 'W'\n",
      " 'WNW' 'WSW']\n",
      "['E' 'ENE' 'ESE' 'N' 'NE' 'NNE' 'NNW' 'NW' 'S' 'SE' 'SSE' 'SSW' 'SW' 'W'\n",
      " 'WNW' 'WSW']\n"
     ]
    }
   ],
   "source": [
    "categorical_columns = ['Location','WindGustDir', 'WindDir3pm', 'WindDir9am']\n",
    "\n",
    "# Hiển thị các giá trị duy nhất trong từng cột phân loại\n",
    "for col in categorical_columns:\n",
    "    print(np.unique(df[col]))\n",
    "\n",
    "# Tạo các biến giả tưởng (dummy variables)\n",
    "df = pd.get_dummies(df, columns=categorical_columns)"
   ]
  },
  {
   "cell_type": "markdown",
   "metadata": {},
   "source": [
    "PHẦN 3: LOGISTIC REGRESSION"
   ]
  },
  {
   "cell_type": "markdown",
   "metadata": {},
   "source": [
    "3.1 Chuẩn bị dữ liệu để xây dựng mô hình Logistic Regression"
   ]
  },
  {
   "cell_type": "markdown",
   "metadata": {},
   "source": [
    "3.1.1 Tính năng mô hình"
   ]
  },
  {
   "cell_type": "code",
   "execution_count": 57,
   "metadata": {},
   "outputs": [],
   "source": [
    "# Đặt X là tất cả các đặc trưng\n",
    "X = df.loc[:, df.columns != 'RainTomorrow']\n",
    "# Đặt y là biến mục tiêu RainTomorrow\n",
    "y = df.RainTomorrow"
   ]
  },
  {
   "cell_type": "markdown",
   "metadata": {},
   "source": [
    "3.1.2 Chia tách dữ liệu"
   ]
  },
  {
   "cell_type": "code",
   "execution_count": 58,
   "metadata": {},
   "outputs": [],
   "source": [
    "X_train, X_test, y_train, y_test = train_test_split(X, y, test_size=0.25, random_state=42)"
   ]
  },
  {
   "cell_type": "markdown",
   "metadata": {},
   "source": [
    "3.2 Xây dựng mô hình Logistic Regression"
   ]
  },
  {
   "cell_type": "code",
   "execution_count": 64,
   "metadata": {},
   "outputs": [],
   "source": [
    "# Tách dữ liệu thành 5 phần và trộn để tránh thiên lệch\n",
    "logReg = LogisticRegression()\n",
    "logReg.fit(X_train, y_train)\n",
    "\n",
    "# Dự đoán trên tập kiểm thử với mô hình đã được huấn luyện\n",
    "y_pred = logReg.predict(X_test)"
   ]
  },
  {
   "cell_type": "markdown",
   "metadata": {},
   "source": [
    "3.3 Đánh giá mô hình"
   ]
  },
  {
   "cell_type": "code",
   "execution_count": 61,
   "metadata": {},
   "outputs": [
    {
     "name": "stdout",
     "output_type": "stream",
     "text": [
      "Độ chính xác của tập dữ liệu: 0.86\n"
     ]
    }
   ],
   "source": [
    "# Đánh giá mô hình\n",
    "accuracy_score = accuracy_score(y_test, y_pred)\n",
    "print(\"Độ chính xác của tập dữ liệu: {:.2f}\".format(accuracy_score))"
   ]
  },
  {
   "cell_type": "markdown",
   "metadata": {},
   "source": [
    "3.4 Vẽ biểu đồ đưa ra dự đoán"
   ]
  },
  {
   "cell_type": "code",
   "execution_count": 62,
   "metadata": {},
   "outputs": [],
   "source": [
    "# Chọn ngẫu nhiên 100 điểm từ tập kiểm thử\n",
    "random_indices = np.random.choice(len(X_test), size=100, replace=False)"
   ]
  },
  {
   "cell_type": "code",
   "execution_count": 63,
   "metadata": {},
   "outputs": [
    {
     "data": {
      "image/png": "[encoded data removed]",
      "text/plain": [
       "<Figure size 1600x500 with 1 Axes>"
      ]
     },
     "metadata": {},
     "output_type": "display_data"
    }
   ],
   "source": [
    "# Biểu đồ điểm so sánh kết quả thực tế và dự đoán\n",
    "plt.figure(figsize=(16, 5))\n",
    "plt.scatter(range(100), y_test.iloc[random_indices], color=\"black\", label=\"Thực tế\")\n",
    "plt.scatter(range(100), y_pred[random_indices], color=\"red\", marker=\"x\", label=\"Dự đoán\")\n",
    "\n",
    "plt.title(\"Biểu đồ so sánh Kết quả Thực tế và Dự đoán 'Ngày mai trời có mưa hay không?'\", fontsize=15, fontweight=\"bold\")\n",
    "plt.xlabel(\"Số mẫu (mẫu)\", fontsize=12)\n",
    "plt.ylabel(\"Có mưa (1) / Không có mưa (0)\", fontsize=12)\n",
    "plt.legend(title=\"Kết quả\", title_fontsize=12, fontsize=12)\n",
    "plt.yticks([0, 1])\n",
    "plt.show()"
   ]
  }
 ],
 "metadata": {
  "kernelspec": {
   "display_name": "ml-1",
   "language": "python",
   "name": "python3"
  },
  "language_info": {
   "codemirror_mode": {
    "name": "ipython",
    "version": 3
   },
   "file_extension": ".py",
   "mimetype": "text/x-python",
   "name": "python",
   "nbconvert_exporter": "python",
   "pygments_lexer": "ipython3",
   "version": "3.10.0"
  }
 },
 "nbformat": 4,
 "nbformat_minor": 2
}
